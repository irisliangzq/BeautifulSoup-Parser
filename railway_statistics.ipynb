{
 "cells": [
  {
   "cell_type": "code",
   "execution_count": 63,
   "metadata": {},
   "outputs": [
    {
     "name": "stdout",
     "output_type": "stream",
     "text": [
      "downloading files, please wait...\n",
      "downloading 1...\n",
      "\n",
      "downloading 2...\n",
      "\n",
      "downloading 3...\n",
      "\n",
      "downloading 4...\n",
      "\n",
      "downloading 5...\n",
      "\n",
      "downloading 6...\n",
      "\n",
      "downloading 7...\n",
      "\n",
      "downloading 8...\n",
      "\n",
      "done!\n",
      "\n",
      "\n",
      "\n"
     ]
    }
   ],
   "source": [
    "#created by iris Liang\n",
    "#The following codes are used to extract Chinese railway statistics data from China Railway website.\n",
    "import time\n",
    "import csv, re, requests\n",
    "import pandas as pd\n",
    "from bs4 import BeautifulSoup\n",
    "from selenium import webdriver\n",
    "\n",
    "url = 'http://www.china-railway.com.cn/wnfw/sjfw/'\n",
    "driver = webdriver.Chrome()\n",
    "driver.get(url) # using the chromedriver to open the link\n",
    "Link = []; title = [] ; Yes = [] #create empty lists to store table links, titles, and elements\n",
    "page = 0\n",
    "\n",
    "#I set the max page = 5 here \n",
    "#because I also want to find the achived files to check whether there's revised data for the previous months.\n",
    "while page < 5:  \n",
    "    bs = BeautifulSoup(driver.page_source, 'html.parser')\n",
    "        #we are looking for the text that contains 'railway main indicator'\n",
    "        #since the text is in chinese, we use re.compile to compile the text\n",
    "        #append an element's parent to 'Yes' list\n",
    "    for elem in bs(text=re.compile('\\u94c1\\u8def\\u4e3b\\u8981\\u6307\\u6807\\u5b8c\\u6210\\u60c5\\u51b5')): Yes.append(elem.parent)\n",
    "        #using xpath in selenium to find the 'nextpage' tag to click \n",
    "    driver.find_element_by_xpath(\"/html/body/div[3]/div/div[2]/div[3]/ol/li[7]/a/span\").click()\n",
    "    page = page + 1\n",
    "    time.sleep(2) \n",
    "    \n",
    "if len(Yes) == 0 : #if nothings in the 'Yes' list, there may be no new release or table name changed\n",
    "    print(\"\\n\\n\\nNo table found, check manually at this link:\")\n",
    "    print(\"\\n http://www.china-railway.com.cn/wnfw/sjfw/\\n\\n\\n\")\n",
    "else:\n",
    "    print('downloading files, please wait...')\n",
    "    for i in Yes:  \n",
    "        Link.append(i['href'])  #append the href link to 'Link' list\n",
    "        title.append(i.getText()) # append the title to 'title' list\n",
    "        #fill the href link by replace './' with the full link\n",
    "        Link = [w.replace('./', 'http://www.china-railway.com.cn/wnfw/sjfw/') for w in Link]\n",
    "        \n",
    "    for t in range(len(Link)):\n",
    "        \n",
    "        print(\"downloading \"+str(t+1)+\"...\\n\")\n",
    "        df = pd.read_html(Link[t])[0]  #begin downloading the files\n",
    "        if t == 0: \n",
    "            #assign a name to the latest file, so we can learn which file is the latest release\n",
    "            df.to_csv('latest_'+title[t]+'.csv', encoding='utf-8-sig', header=False, index=False) \n",
    "        else: \n",
    "            df.to_csv(title[t]+'.csv', encoding='utf-8-sig', header=False, index=False)\n",
    "    print(\"done!\\n\\n\\n\")  \n",
    "    \n",
    "driver.quit()\n"
   ]
  }
 ],
 "metadata": {
  "kernelspec": {
   "display_name": "Python 3",
   "language": "python",
   "name": "python3"
  },
  "language_info": {
   "codemirror_mode": {
    "name": "ipython",
    "version": 3
   },
   "file_extension": ".py",
   "mimetype": "text/x-python",
   "name": "python",
   "nbconvert_exporter": "python",
   "pygments_lexer": "ipython3",
   "version": "3.6.1"
  }
 },
 "nbformat": 4,
 "nbformat_minor": 2
}
